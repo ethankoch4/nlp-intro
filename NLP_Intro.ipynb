{
  "nbformat": 4,
  "nbformat_minor": 0,
  "metadata": {
    "colab": {
      "name": "NLP-Intro.ipynb",
      "version": "0.3.2",
      "provenance": [],
      "collapsed_sections": [],
      "include_colab_link": true
    },
    "kernelspec": {
      "name": "python3",
      "display_name": "Python 3"
    }
  },
  "cells": [
    {
      "cell_type": "markdown",
      "metadata": {
        "id": "view-in-github",
        "colab_type": "text"
      },
      "source": [
        "<a href=\"https://colab.research.google.com/github/ethankoch4/nlu-intro/blob/master/NLP_Intro.ipynb\" target=\"_parent\"><img src=\"https://colab.research.google.com/assets/colab-badge.svg\" alt=\"Open In Colab\"/></a>"
      ]
    },
    {
      "metadata": {
        "id": "w-8f5jQH9vGk",
        "colab_type": "code",
        "colab": {}
      },
      "cell_type": "code",
      "source": [
        ""
      ],
      "execution_count": 0,
      "outputs": []
    },
    {
      "metadata": {
        "id": "JBozpuViGwz6",
        "colab_type": "text"
      },
      "cell_type": "markdown",
      "source": [
        "# Short NLP Intro\n",
        "\n",
        "### Topics:\n",
        "* Bag-of-Words\n",
        "* Term-Frequency\n",
        "* Term-Frequency Inverse-Document-Frequency\n",
        "* Sentiment Classification in Python"
      ]
    },
    {
      "metadata": {
        "id": "2R5HY6MiHKgZ",
        "colab_type": "text"
      },
      "cell_type": "markdown",
      "source": [
        "## Overview\n",
        "\n",
        "I don't want to show you how to do these things -- I want you to learn them by practicing yourself!\n",
        "\n",
        "In each cell I have defined a function with an assert statement. The assert statement should pass for you to know you've implemented the function correctly! At the very end of the notebook is a cell that runs on a small dataset of Yelp Reviews to see how this all works.\n",
        "\n",
        "P.S. The solutions can be [found here.](https://github.com/ethankoch4/nlu-intro/blob/master/solutions/nlp_intro_solutions.py)\n",
        "\n",
        "## Need a Python Intro?\n",
        "\n",
        "If you do not feel comfortable enough in Python to complete this, you can [click on this link](https://www.learnpython.org/) and follow the links in the tutorials. If you look at loops, dicts, sets, and the NumPy intro, you should be good to go!\n",
        "\n",
        "----------------------------------------------------------------------------------------------------------------------------------------------------------------------------------------------------------"
      ]
    },
    {
      "metadata": {
        "id": "5UrR6f6zG67v",
        "colab_type": "code",
        "colab": {}
      },
      "cell_type": "code",
      "source": [
        "# setup -- do not need to touch\n",
        "import numpy as np\n",
        "from sklearn.linear_model import LogisticRegression"
      ],
      "execution_count": 0,
      "outputs": []
    },
    {
      "metadata": {
        "id": "lZXUb9KfIZFD",
        "colab_type": "code",
        "colab": {
          "base_uri": "https://localhost:8080/",
          "height": 34
        },
        "outputId": "fa63b148-3c6e-4dea-a912-267bdbce3e89"
      },
      "cell_type": "code",
      "source": [
        "def get_bow_from_tokens(tokens, vocab):\n",
        "    '''get BOW representation for text using vocab\n",
        "    \n",
        "    Arguments:\n",
        "        tokens (list): list of strings (tokens) from a text\n",
        "        vocab (set): all tokens in corpus\n",
        "    \n",
        "    Returns:\n",
        "        bag-of-words representation of tokens passed in\n",
        "    '''\n",
        "    \n",
        "    \n",
        "\n",
        "result = get_bow_from_tokens(['a', 'b', 'a'], {'a', 'b', 'c'})\n",
        "if result is not None:\n",
        "    assert result == {'a': 2, 'b': 1, 'c': 0}, \"Incorrect solution!\"\n",
        "else:\n",
        "    print('Implement the function!')"
      ],
      "execution_count": 23,
      "outputs": [
        {
          "output_type": "stream",
          "text": [
            "Implement the function!\n"
          ],
          "name": "stdout"
        }
      ]
    },
    {
      "metadata": {
        "id": "0hi7hZedJ_HY",
        "colab_type": "code",
        "colab": {
          "base_uri": "https://localhost:8080/",
          "height": 34
        },
        "outputId": "1de49874-59a8-4718-8256-a9b45cf8e684"
      },
      "cell_type": "code",
      "source": [
        "def build_vocab(texts):\n",
        "    '''build vocab dict from list of tokenized texts\n",
        "    \n",
        "    Arguments:\n",
        "        texts (list): list of lists of strings (tokens) from each text\n",
        "    \n",
        "    Returns:\n",
        "        set of each unique token in corpus\n",
        "    '''\n",
        "    \n",
        "    \n",
        "    \n",
        "result = build_vocab([['a', 'b'], ['a', 'c']])\n",
        "if result is not None:\n",
        "    assert result == {'a', 'b', 'c'}, \"Incorrect solution!\"\n",
        "else:\n",
        "    print('Implement the function!')"
      ],
      "execution_count": 27,
      "outputs": [
        {
          "output_type": "stream",
          "text": [
            "Implement the function!\n"
          ],
          "name": "stdout"
        }
      ]
    },
    {
      "metadata": {
        "id": "tUt0S1wPKLf_",
        "colab_type": "code",
        "colab": {
          "base_uri": "https://localhost:8080/",
          "height": 34
        },
        "outputId": "05528737-6f91-4dee-9b57-389e378c8fdd"
      },
      "cell_type": "code",
      "source": [
        "def tokenize_text(text):\n",
        "    '''tokenized an input text (str)\n",
        "    \n",
        "    Arguments:\n",
        "        text (str): one of the documents in the corpus\n",
        "    \n",
        "    Returns:\n",
        "        list of tokens (strings) in document\n",
        "    '''\n",
        "    \n",
        "    \n",
        "    \n",
        "result = tokenize_text('a b c')\n",
        "if result is not None:\n",
        "    assert result == ['a', 'b', 'c'], \"Incorrect solution!\"\n",
        "else:\n",
        "    print('Implement the function!')"
      ],
      "execution_count": 20,
      "outputs": [
        {
          "output_type": "stream",
          "text": [
            "Implement the function!\n"
          ],
          "name": "stdout"
        }
      ]
    },
    {
      "metadata": {
        "id": "T38fPv3yKONp",
        "colab_type": "code",
        "colab": {
          "base_uri": "https://localhost:8080/",
          "height": 34
        },
        "outputId": "bfd5f1fc-36ec-43bd-8b4b-c79730d8d669"
      },
      "cell_type": "code",
      "source": [
        "def texts_to_tf_matrix(texts):\n",
        "    '''from list of texts to a numpy array Term-Frequency matrix\n",
        "    \n",
        "    Arguments:\n",
        "        texts (list): list of strings that are the input texts\n",
        "    \n",
        "    Returns:\n",
        "        Term-Frequency matrix -- rows are texts, columns are words\n",
        "    '''\n",
        "    \n",
        "    \n",
        "\n",
        "result = texts_to_tf_matrix(['a b c', 'a b c'])\n",
        "if result is not None:\n",
        "    assert np.allclose(result, np.array([[1, 1, 1], [1, 1, 1]])), \"Incorrect solution!\"\n",
        "else:\n",
        "    print('Implement the function!')"
      ],
      "execution_count": 19,
      "outputs": [
        {
          "output_type": "stream",
          "text": [
            "Implement the function!\n"
          ],
          "name": "stdout"
        }
      ]
    },
    {
      "metadata": {
        "id": "q4J1MsC0K6U7",
        "colab_type": "code",
        "colab": {
          "base_uri": "https://localhost:8080/",
          "height": 34
        },
        "outputId": "fae4755e-4b62-42ca-f0b4-ec9bc8069866"
      },
      "cell_type": "code",
      "source": [
        "def tf_matrix_to_tf_idf(tf_matrix):\n",
        "    '''get a tf-idf matrix from TF matrix\n",
        "    \n",
        "    Arguments:\n",
        "        tf_matrix (np.array): np.array that is a Term-Frequency matrix\n",
        "    \n",
        "    Returns:\n",
        "        Term-Frequency Inverse-Document matrix\n",
        "    '''\n",
        "    \n",
        "    \n",
        "    \n",
        "result = tf_matrix_to_tf_idf(np.array([[0, 1, 0], [1, 1, 1]]))\n",
        "if result is not None:\n",
        "    assert np.allclose(result, np.array([[0, 0.5, 0], [1, 0.5, 1]])), \"Incorrect solution!\"\n",
        "else:\n",
        "    print('Implement function!')"
      ],
      "execution_count": 17,
      "outputs": [
        {
          "output_type": "stream",
          "text": [
            "Implement function!\n"
          ],
          "name": "stdout"
        }
      ]
    },
    {
      "metadata": {
        "id": "ZW0TLVCXK9nM",
        "colab_type": "code",
        "colab": {
          "base_uri": "https://localhost:8080/",
          "height": 34
        },
        "outputId": "8d4788d2-eed5-46b4-eded-3c947f783150"
      },
      "cell_type": "code",
      "source": [
        "def get_sentiment_predictor(matrix, labels):\n",
        "    '''return model that can be used to predict sentiment\n",
        "    \n",
        "    Arguments:\n",
        "        matrix (np.array): (X) examples to train classifier on\n",
        "        labels (list): (Y) labels to train classifier on\n",
        "    \n",
        "    Returns:\n",
        "        sklearn.linear_model.LogisticRegression object that can be used to predict\n",
        "    '''\n",
        "    \n",
        "result = get_sentiment_predictor(np.array([[0,1],[.5,.5]]), [0,1])\n",
        "if result is not None:\n",
        "    assert isinstance(result, LogisticRegression)\n",
        "else:\n",
        "    print('Implement the function!')"
      ],
      "execution_count": 26,
      "outputs": [
        {
          "output_type": "stream",
          "text": [
            "Implement the function!\n"
          ],
          "name": "stdout"
        }
      ]
    },
    {
      "metadata": {
        "id": "aBQF5i9qMtUD",
        "colab_type": "code",
        "colab": {}
      },
      "cell_type": "code",
      "source": [
        ""
      ],
      "execution_count": 0,
      "outputs": []
    },
    {
      "metadata": {
        "id": "Uz1kQvtgOzVG",
        "colab_type": "text"
      },
      "cell_type": "markdown",
      "source": [
        "## Let's see how it actually performs!"
      ]
    },
    {
      "metadata": {
        "id": "RmcUCj6mO6qR",
        "colab_type": "code",
        "colab": {
          "base_uri": "https://localhost:8080/",
          "height": 232
        },
        "outputId": "cd3c1000-978c-4ad4-ee8a-eff3221fa10b"
      },
      "cell_type": "code",
      "source": [
        "# don't need to touch this; just run it!\n",
        "\n",
        "labels = \"\"\"1,,,,0,,,,0,,,,1,,,,1,,,,0,,,,0,,,,0,,,,1,,,,1,,,,1,,,,0,,,,0,,,,1,,,,0,,,,0,,,,1,,,,0,,,,0,,,,0,,,,0,,,,1,,,,1,,,,1,,,,1,,,,1,,,,0,,,,1,,,,0,,,,0,,,,1,,,,0,,,,1,,,,0,,,,1,,,,1,,,,1,,,,0,,,,1,,,,0,,,,1,,,,0,,,,0,,,,1,,,,0,,,,1,,,,0,,,,1,,,,1,,,,1,,,,1,,,,1,,,,1,,,,0,,,,1,,,,1,,,,0,,,,0,,,,1,,,,0,,,,0,,,,1,,,,1,,,,1,,,,1,,,,1,,,,1,,,,1,,,,0,,,,1,,,,1,,,,1,,,,0,,,,0,,,,0,,,,0,,,,0,,,,1,,,,1,,,,0,,,,0,,,,0,,,,0,,,,1,,,,0,,,,1,,,,0,,,,1,,,,1,,,,1,,,,0,,,,1,,,,0,,,,1,,,,0,,,,0,,,,1,,,,1,,,,0,,,,1,,,,1,,,,1,,,,1,,,,1,,,,1,,,,1,,,,1,,,,1,,,,1,,,,1,,,,0,,,,0,,,,1,,,,1,,,,1,,,,1,,,,0,,,,0,,,,0,,,,0,,,,0,,,,0,,,,1,,,,1,,,,1,,,,0,,,,0,,,,1,,,,0,,,,1,,,,0,,,,1,,,,1,,,,0,,,,1,,,,1,,,,1,,,,1,,,,0,,,,1,,,,0,,,,0,,,,0,,,,0,,,,1,,,,1,,,,0,,,,0,,,,0,,,,0,,,,1,,,,1,,,,0,,,,0,,,,1,,,,1,,,,1,,,,1,,,,1,,,,0,,,,0,,,,1,,,,1,,,,0,,,,1,,,,1,,,,1,,,,0,,,,0,,,,1,,,,0,,,,1,,,,1,,,,1,,,,1,,,,0,,,,0,,,,1,,,,1,,,,0,,,,0,,,,0,,,,0,,,,0,,,,1,,,,1,,,,0,,,,1,,,,1,,,,1,,,,1,,,,1,,,,0,,,,1,,,,0,,,,1,,,,0,,,,0,,,,1,,,,1,,,,1,,,,1,,,,0,,,,1,,,,1,,,,1,,,,0,,,,0,,,,0,,,,1,,,,0,,,,0,,,,1,,,,0,,,,1,,,,1,,,,0,,,,1,,,,0,,,,1,,,,0,,,,0,,,,0,,,,0,,,,0,,,,1,,,,1,,,,1,,,,0,,,,1,,,,1,,,,0,,,,1,,,,0,,,,1,,,,0,,,,0,,,,1,,,,0,,,,1,,,,0,,,,1,,,,0,,,,0,,,,0,,,,0,,,,1,,,,1,,,,1,,,,0,,,,1,,,,0,,,,1,,,,0,,,,1,,,,1,,,,1,,,,0,,,,1,,,,0,,,,1,,,,0,,,,1,,,,1,,,,1,,,,1,,,,0,,,,1,,,,1,,,,0,,,,1,,,,1,,,,1,,,,1,,,,1,,,,0,,,,1,,,,1,,,,0,,,,0,,,,1,,,,0,,,,0,,,,0,,,,1,,,,1,,,,0,,,,0,,,,1,,,,0,,,,0,,,,0,,,,1,,,,0,,,,1,,,,1,,,,0,,,,1,,,,0,,,,1,,,,1,,,,0,,,,0,,,,0,,,,1,,,,0,,,,0,,,,0,,,,1,,,,1,,,,1,,,,0,,,,1,,,,0,,,,1,,,,0,,,,0,,,,1,,,,1,,,,1,,,,0,,,,0,,,,1,,,,1,,,,1,,,,1,,,,1,,,,1,,,,0,,,,0,,,,0,,,,1,,,,1,,,,0,,,,1,,,,1,,,,0,,,,0,,,,1,,,,0,,,,0,,,,1,,,,1,,,,1,,,,0,,,,1,,,,1,,,,1,,,,1,,,,1,,,,0,,,,0,,,,1,,,,0,,,,1,,,,1,,,,0,,,,1,,,,1,,,,1,,,,0,,,,1,,,,1,,,,0,,,,1,,,,0,,,,0,,,,1,,,,1,,,,1,,,,0,,,,0,,,,1,,,,1,,,,0,,,,1,,,,0,,,,1,,,,0,,,,0,,,,0,,,,1,,,,1,,,,0,,,,0,,,,0,,,,1,,,,0,,,,0,,,,1,,,,1,,,,1,,,,1,,,,1,,,,1,,,,1,,,,0,,,,1,,,,1,,,,1,,,,0,,,,0,,,,0,,,,1,,,,1,,,,0,,,,1,,,,1,,,,1,,,,0,,,,1,,,,1,,,,0,,,,1,,,,0,,,,0,,,,0,,,,1,,,,1,,,,1,,,,1,,,,0,,,,0,,,,0,,,,0,,,,1,,,,1,,,,0,,,,0,,,,1,,,,0,,,,1,,,,1,,,,0,,,,1,,,,0,,,,1,,,,1,,,,1,,,,1,,,,0,,,,1,,,,1,,,,0,,,,1,,,,1,,,,0,,,,0,,,,1,,,,1,,,,0,,,,1,,,,0,,,,0,,,,0,,,,0,,,,1,,,,1,,,,1,,,,1,,,,0,,,,1,,,,1,,,,0,,,,1,,,,1,,,,0,,,,0,,,,1,,,,1,,,,1,,,,0,,,,1,,,,0,,,,0,,,,0,,,,1,,,,1,,,,1,,,,1,,,,0,,,,1,,,,0,,,,0,,,,1,,,,1,,,,1,,,,0,,,,0,,,,1,,,,1,,,,1,,,,0,,,,1,,,,1,,,,0,,,,1,,,,1,,,,1,,,,1,,,,1,,,,0,,,,1,,,,1,,,,1,,,,0,,,,0,,,,0,,,,0,,,,0,,,,1,,,,1,,,,1,,,,1,,,,1,,,,1,,,,0,,,,1,,,,0,,,,1,,,,1,,,,1,,,,0,,,,0,,,,1,,,,0,,,,0,,,,1,,,,1,,,,1,,,,1,,,,1,,,,1,,,,1,,,,0,,,,1,,,,0,,,,1,,,,0,,,,1,,,,1,,,,0,,,,1,,,,0,,,,0,,,,1,,,,1,,,,0,,,,0,,,,1,,,,1,,,,1,,,,1,,,,0,,,,0,,,,0,,,,0,,,,0,,,,1,,,,1,,,,0,,,,0,,,,1,,,,1,,,,1,,,,0,,,,0,,,,1,,,,0,,,,0,,,,0,,,,0,,,,0,,,,1,,,,1,,,,0,,,,0,,,,1,,,,1,,,,1,,,,0,,,,0,,,,0,,,,1,,,,0,,,,1,,,,1,,,,0,,,,1,,,,0,,,,1,,,,1,,,,1,,,,0,,,,0,,,,1,,,,0,,,,1,,,,1,,,,0,,,,1,,,,0,,,,1,,,,1,,,,1,,,,1,,,,1,,,,0,,,,1,,,,0,,,,0,,,,0,,,,0,,,,0,,,,1,,,,1,,,,0,,,,0,,,,1,,,,0,,,,0,,,,0,,,,1,,,,0,,,,1,,,,1,,,,0,,,,0,,,,0,,,,1,,,,1,,,,1,,,,0,,,,1,,,,0,,,,1,,,,0,,,,1,,,,0,,,,1,,,,1,,,,0,,,,1,,,,0,,,,0,,,,0,,,,0,,,,0,,,,1,,,,0,,,,0,,,,1,,,,1,,,,0,,,,1,,,,0,,,,1,,,,1,,,,1,,,,1,,,,1,,,,1,,,,1,,,,1,,,,1,,,,1,,,,1,,,,1,,,,1,,,,0,,,,0,,,,1,,,,0,,,,1,,,,1,,,,1,,,,1,,,,0,,,,1,,,,0,,,,1,,,,0,,,,1,,,,1,,,,1,,,,0,,,,1,,,,1,,,,1,,,,1,,,,1,,,,0,,,,1,,,,1,,,,1,,,,0,,,,0,,,,0,,,,0,,,,0,,,,0,,,,0,,,,1,,,,1,,,,1,,,,0,,,,1,,,,0,,,,1,,,,0,,,,1,,,,0,,,,1,,,,0,,,,1,,,,1,,,,1,,,,0,,,,1,,,,0,,,,1,,,,1,,,,1,,,,1,,,,1,,,,1,,,,1,,,,0,,,,1,,,,1,,,,0,,,,0,,,,1,,,,1,,,,1,,,,0,,,,0,,,,1,,,,1,,,,1,,,,1,,,,0,,,,0,,,,0,,,,0,,,,1,,,,1,,,,1,,,,0,,,,1,,,,1,,,,1,,,,1,,,,1,,,,0,,,,1,,,,0,,,,1,,,,1,,,,0,,,,1,,,,0,,,,0,,,,0,,,,1,,,,0,,,,1,,,,1,,,,1,,,,1,,,,0,,,,1,,,,0,,,,0,,,,1,,,,0,,,,1,,,,0,,,,0,,,,0,,,,1,,,,1,,,,1,,,,0,,,,0,,,,1,,,,0,,,,1,,,,1,,,,1,,,,1,,,,0,,,,0,,,,1,,,,0,,,,1,,,,1,,,,1,,,,0,,,,1,,,,0,,,,1,,,,0,,,,1,,,,1,,,,0,,,,1,,,,0,,,,1,,,,1,,,,0,,,,0,,,,0,,,,0,,,,1,,,,1,,,,0,,,,1,,,,0,,,,0,,,,0,,,,0,,,,1,,,,1,,,,0,,,,0,,,,0,,,,0,,,,0,,,,0,,,,0,,,,0,,,,0,,,,1,,,,1,,,,0,,,,1,,,,0,,,,0,,,,1,,,,0,,,,1,,,,1,,,,0,,,,0,,,,0,,,,0,,,,1,,,,0,,,,0,,,,1,,,,0,,,,1,,,,1,,,,0,,,,0,,,,1,,,,1,,,,0,,,,0,,,,1,,,,1,,,,0,,,,1,,,,1,,,,1,,,,1,,,,1,,,,1,,,,0,,,,0,,,,0,,,,1,,,,1,,,,0,,,,0,,,,0,,,,1,,,,1,,,,0,,,,0,,,,0,,,,1,,,,0,,,,0,,,,0,,,,0,,,,0,,,,1,,,,0,,,,1,,,,1,,,,0,,,,0,,,,1,,,,1,,,,1,,,,1,,,,0,,,,1,,,,0,,,,1,,,,0,,,,0,,,,0,,,,0,,,,0,,,,1,,,,0,,,,1,,,,0,,,,0,,,,0,,,,0,,,,0,,,,0,,,,0,,,,0,,,,0,,,,0,,,,0,,,,0,,,,1,,,,0,,,,0,,,,0,,,,0,,,,0,,,,0,,,,0,,,,0,,,,0,,,,0,,,,0,,,,0,,,,0,,,,0,,,,0,,,,0,,,,0,,,,0,,,,0,,,,0,,,,0,,,,0,,,,0,,,,0,,,,0,,,,0,,,,0,,,,0,,,,0,,,,0,,,,0,,,,0,,,,0,,,,0,,,,0,,,,0,,,,0,,,,0,,,,0,,,,0,,,,0,,,,0,,,,0,,,,0,,,,0,,,,0,,,,0,,,,0,,,,0,,,,0,,,,0,,,,0,,,,0,,,,0,,,,0,,,,0,,,,0,,,,0,,,,0,,,,0,,,,0,,,,0,,,,0,,,,0,,,,0,,,,0,,,,0,,,,0,,,,0,,,,0,,,,0,,,,0,,,,0,,,,0,,,,0,,,,0,,,,0\"\"\"\n",
        "labels = labels.split(',,,,')\n",
        "\n",
        "texts = \"\"\"Wow... Loved this place.,,,,Crust is not good.,,,,Not tasty and the texture was just nasty.,,,,Stopped by during the late May bank holiday off Rick Steve recommendation and loved it.,,,,The selection on the menu was great and so were the prices.,,,,Now I am getting angry and I want my damn pho.,,,,Honeslty it didn't taste THAT fresh.),,,,The potatoes were like rubber and you could tell they had been made up ahead of time being kept under a warmer.,,,,The fries were great too.,,,,A great touch.,,,,Service was very prompt.,,,,Would not go back.,,,,The cashier had no care what so ever on what I had to say it still ended up being wayyy overpriced.,,,,I tried the Cape Cod ravoli, chicken,with cranberry...mmmm!,,,,I was disgusted because I was pretty sure that was human hair.,,,,I was shocked because no signs indicate cash only.,,,,Highly recommended.,,,,Waitress was a little slow in service.,,,,This place is not worth your time, let alone Vegas.,,,,did not like at all.,,,,The Burrittos Blah!,,,,The food, amazing.,,,,Service is also cute.,,,,I could care less... The interior is just beautiful.,,,,So they performed.,,,,That's right....the red velvet cake.....ohhh this stuff is so good.,,,,- They never brought a salad we asked for.,,,,This hole in the wall has great Mexican street tacos, and friendly staff.,,,,Took an hour to get our food only 4 tables in restaurant my food was Luke warm, Our sever was running around like he was totally overwhelmed.,,,,The worst was the salmon sashimi.,,,,Also there are combos like a burger, fries, and beer for 23 which is a decent deal.,,,,This was like the final blow!,,,,I found this place by accident and I could not be happier.,,,,seems like a good quick place to grab a bite of some familiar pub food, but do yourself a favor and look elsewhere.,,,,Overall, I like this place a lot.,,,,The only redeeming quality of the restaurant was that it was very inexpensive.,,,,Ample portions and good prices.,,,,Poor service, the waiter made me feel like I was stupid every time he came to the table.,,,,My first visit to Hiro was a delight!,,,,Service sucks.,,,,The shrimp tender and moist.,,,,There is not a deal good enough that would drag me into that establishment again.,,,,Hard to judge whether these sides were good because we were grossed out by the melted styrofoam and didn't want to eat it for fear of getting sick.,,,,On a positive note, our server was very attentive and provided great service.,,,,Frozen pucks of disgust, with some of the worst people behind the register.,,,,The only thing I did like was the prime rib and dessert section.,,,,It's too bad the food is so damn generic.,,,,The burger is good beef, cooked just right.,,,,If you want a sandwich just go to any Firehouse!!!!!,,,,My side Greek salad with the Greek dressing was so tasty, and the pita and hummus was very refreshing.,,,,We ordered the duck rare and it was pink and tender on the inside with a nice char on the outside.,,,,He came running after us when he realized my husband had left his sunglasses on the table.,,,,Their chow mein is so good!,,,,They have horrible attitudes towards customers, and talk down to each one when customers don't enjoy their food.,,,,The portion was huge!,,,,Loved it...friendly servers, great food, wonderful and imaginative menu.,,,,The Heart Attack Grill in downtown Vegas is an absolutely flat-lined excuse for a restaurant.,,,,Not much seafood and like 5 strings of pasta at the bottom.,,,,The salad had just the right amount of sauce to not over power the scallop, which was perfectly cooked.,,,,The ripped banana was not only ripped, but petrified and tasteless.,,,,At least think to refill my water before I struggle to wave you over for 10 minutes.,,,,This place receives stars for their APPETIZERS!!!,,,,The cocktails are all handmade and delicious.,,,,We'd definitely go back here again.,,,,We are so glad we found this place.,,,,Great food and service, huge portions and they give a military discount.,,,,Always a great time at Dos Gringos!,,,,Update.....went back for a second time and it was still just as amazing,,,,We got the food and apparently they have never heard of salt and the batter on the fish was chewy.,,,,A great way to finish a great.,,,,The deal included 5 tastings and 2 drinks, and Jeff went above and beyond what we expected.,,,,- Really, really good rice, all the time.,,,,The service was meh.,,,,It took over 30 min to get their milkshake, which was nothing more than chocolate milk.,,,,I guess I should have known that this place would suck, because it is inside of the Excalibur, but I didn't use my common sense.,,,,The scallop dish is quite appalling for value as well.,,,,2 times - Very Bad Customer Service !,,,,The sweet potato fries were very good and seasoned well.,,,,Today is the second time I've been to their lunch buffet and it was pretty good.,,,,There is so much good food in Vegas that I feel cheated for wasting an eating opportunity by going to Rice and Company.,,,,Coming here is like experiencing an underwhelming relationship where both parties can't wait for the other person to ask to break up.,,,,walked in and the place smelled like an old grease trap and only 2 others there eating.,,,,The turkey and roast beef were bland.,,,,This place has it!,,,,The pan cakes everyone are raving about taste like a sugary disaster tailored to the palate of a six year old.,,,,I love the Pho and the spring rolls oh so yummy you have to try.,,,,The poor batter to meat ratio made the chicken tenders very unsatisfying.,,,,All I have to say is the food was amazing!!!,,,,Omelets are to die for!,,,,Everything was fresh and delicious!,,,,In summary, this was a largely disappointing dining experience.,,,,It's like a really sexy party in your mouth, where you're outrageously flirting with the hottest person at the party.,,,,Never been to Hard Rock Casino before, WILL NEVER EVER STEP FORWARD IN IT AGAIN!,,,,Best breakfast buffet!!!,,,,say bye bye to your tip lady!,,,,We'll never go again.,,,,Will be back again!,,,,Food arrived quickly!,,,,It was not good.,,,,On the up side, their cafe serves really good food.,,,,Our server was fantastic and when he found out the wife loves roasted garlic and bone marrow, he added extra to our meal and another marrow to go!,,,,The only good thing was our waiter, he was very helpful and kept the bloddy mary's coming.,,,,Best Buffet in town, for the price you cannot beat it.,,,,I LOVED their mussels cooked in this wine reduction, the duck was tender, and their potato dishes were delicious.,,,,This is one of the better buffets that I have been to.,,,,So we went to Tigerlilly and had a fantastic afternoon!,,,,The food was delicious, our bartender was attentive and personable AND we got a great deal!,,,,The ambience is wonderful and there is music playing.,,,,Will go back next trip out.,,,,Sooooo good!!,,,,REAL sushi lovers, let's be honest - Yama is not that good.,,,,At least 40min passed in between us ordering and the food arriving, and it wasn't that busy.,,,,This is a really fantastic Thai restaurant which is definitely worth a visit.,,,,Nice, spicy and tender.,,,,Good prices.,,,,Check it out.,,,,It was pretty gross!,,,,I've had better atmosphere.,,,,Kind of hard to mess up a steak but they did.,,,,Although I very much liked the look and sound of this place, the actual experience was a bit disappointing.,,,,I just don't know how this place managed to served the blandest food I have ever eaten when they are preparing Indian cuisine.,,,,Worst service to boot, but that is the least of their worries.,,,,Service was fine and the waitress was friendly.,,,,The guys all had steaks, and our steak loving son who has had steak at the best and worst places said it was the best steak he's ever eaten.,,,,We thought you'd have to venture further away to get good sushi, but this place really hit the spot that night.,,,,Host staff were, for lack of a better word, BITCHES!,,,,Bland... Not a liking this place for a number of reasons and I don't want to waste time on bad reviewing.. I'll leave it at that...,,,,Phenomenal food, service and ambiance.,,,,I wouldn't return.,,,,Definitely worth venturing off the strip for the pork belly, will return next time I'm in Vegas.,,,,This place is way too overpriced for mediocre food.,,,,Penne vodka excellent!,,,,They have a good selection of food including a massive meatloaf sandwich, a crispy chicken wrap, a delish tuna melt and some tasty burgers.,,,,The management is rude.,,,,Delicious NYC bagels, good selections of cream cheese, real Lox with capers even.,,,,Great Subway, in fact it's so good when you come here every other Subway will not meet your expectations.,,,,I had a seriously solid breakfast here.,,,,This is one of the best bars with food in Vegas.,,,,He was extremely rude and really, there are so many other restaurants I would love to dine at during a weekend in Vegas.,,,,My drink was never empty and he made some really great menu suggestions.,,,,Don't do it!!!!,,,,The waiter wasn't helpful or friendly and rarely checked on us.,,,,My husband and I ate lunch here and were very disappointed with the food and service.,,,,And the red curry had so much bamboo shoots and wasn't very tasty to me.,,,,Nice blanket of moz over top but i feel like this was done to cover up the subpar food.,,,,The bathrooms are clean and the place itself is well decorated.,,,,The menu is always changing, food quality is going down & service is extremely slow.,,,,The service was a little slow , considering that were served by 3 people servers so the food was coming in a slow pace.,,,,I give it 2 thumbs down,,,,We watched our waiter pay a lot more attention to other tables and ignore us.,,,,My fiancé and I came in the middle of the day and we were greeted and seated right away.,,,,This is a great restaurant at the Mandalay Bay.,,,,We waited for forty five minutes in vain.,,,,Crostini that came with the salad was stale.,,,,Some highlights : Great quality nigiri here!,,,,the staff is friendly and the joint is always clean.,,,,this was a different cut than the piece the other day but still wonderful and tender s well as well flavored.,,,,I ordered the Voodoo pasta and it was the first time I'd had really excellent pasta since going gluten free several years ago.,,,,this place is good.,,,,Unfortunately, we must have hit the bakery on leftover day because everything we ordered was STALE.,,,,I came back today since they relocated and still not impressed.,,,,I was seated immediately.,,,,Their menu is diverse, and reasonably priced.,,,,Avoid at all cost!,,,,Restaurant is always full but never a wait.,,,,DELICIOUS!!,,,,This place is hands-down one of the best places to eat in the Phoenix metro area.,,,,So don't go there if you are looking for good food...,,,,I've never been treated so bad.,,,,Bacon is hella salty.,,,,We also ordered the spinach and avocado salad; the ingredients were sad and the dressing literally had zero taste.,,,,This really is how Vegas fine dining used to be, right down to the menus handed to the ladies that have no prices listed.,,,,The waitresses are very friendly.,,,,Lordy, the Khao Soi is a dish that is not to be missed for curry lovers!,,,,Everything on the menu is terrific and we were also thrilled that they made amazing accommodations for our vegetarian daughter.,,,,Perhaps I caught them on an off night judging by the other reviews, but I'm not inspired to go back.,,,,The service here leaves a lot to be desired.,,,,The atmosphere is modern and hip, while maintaining a touch of coziness.,,,,Not a weekly haunt, but definitely a place to come back to every once in a while.,,,,We literally sat there for 20 minutes with no one asking to take our order.,,,,The burger had absolutely no flavor - the meat itself was totally bland, the burger was overcooked and there was no charcoal flavor.,,,,I also decided not to send it back because our waitress looked like she was on the verge of having a heart attack.,,,,I dressed up to be treated so rudely!,,,,It was probably dirt.,,,,Love this place, hits the spot when I want something healthy but not lacking in quantity or flavor.,,,,I ordered the Lemon raspberry ice cocktail which was also incredible.,,,,The food sucked, which we expected but it sucked more than we could have imagined.,,,,Interesting decor.,,,,What I really like there is the crepe station.,,,,Also were served hot bread and butter, and home made potato chips with bacon bits on top....very original and very good.,,,,you can watch them preparing the delicious food!),,,,Both of the egg rolls were fantastic.,,,,When my order arrived, one of the gyros was missing.,,,,I had a salad with the wings, and some ice cream for dessert and left feeling quite satisfied.,,,,I'm not really sure how Joey's was voted best hot dog in the Valley by readers of Phoenix Magazine.,,,,The best place to go for a tasty bowl of Pho!,,,,The live music on Fridays totally blows.,,,,I've never been more insulted or felt disrespected.,,,,Very friendly staff.,,,,It is worth the drive.,,,,I had heard good things about this place, but it exceeding every hope I could have dreamed of.,,,,Food was great and so was the serivce!,,,,The warm beer didn't help.,,,,Great brunch spot.,,,,Service is friendly and inviting.,,,,Very good lunch spot.,,,,I've lived here since 1979 and this was the first (and last) time I've stepped foot into this place.,,,,The WORST EXPERIENCE EVER.,,,,Must have been an off night at this place.,,,,The sides are delish - mixed mushrooms, yukon gold puree, white corn - beateous.,,,,If that bug never showed up I would have given a 4 for sure, but on the other side of the wall where this bug was climbing was the kitchen.,,,,For about 10 minutes, we we're waiting for her salad when we realized that it wasn't coming any time soon.,,,,My friend loved the salmon tartar.,,,,Won't go back.,,,,Extremely Tasty!,,,,Waitress was good though!,,,,Soggy and not good.,,,,The Jamaican mojitos are delicious.,,,,Which are small and not worth the price.,,,,- the food is rich so order accordingly.,,,,The shower area is outside so you can only rinse, not take a full shower, unless you don't mind being nude for everyone to see!,,,,The service was a bit lacking.,,,,Lobster Bisque, Bussell Sprouts, Risotto, Filet ALL needed salt and pepper..and of course there is none at the tables.,,,,Hopefully this bodes for them going out of business and someone who can cook can come in.,,,,It was either too cold, not enough flavor or just bad.,,,,I loved the bacon wrapped dates.,,,,This is an unbelievable BARGAIN!,,,,The folks at Otto always make us feel so welcome and special.,,,,As for the \"mains,\" also uninspired.,,,,This is the place where I first had pho and it was amazing!!,,,,This wonderful experience made this place a must-stop whenever we are in town again.,,,,If the food isn't bad enough for you, then enjoy dealing with the world's worst/annoying drunk people.,,,,Very very fun chef.,,,,Ordered a double cheeseburger & got a single patty that was falling apart (picture uploaded) Yeah, still sucks.,,,,Great place to have a couple drinks and watch any and all sporting events as the walls are covered with TV's.,,,,If it were possible to give them zero stars, they'd have it.,,,,The descriptions said \"yum yum sauce\" and another said \"eel sauce\", yet another said \"spicy mayo\"...well NONE of the rolls had sauces on them.,,,,I'd say that would be the hardest decision... Honestly, all of M's dishes taste how they are supposed to taste (amazing).,,,,If she had not rolled the eyes we may have stayed... Not sure if we will go back and try it again.,,,,Everyone is very attentive, providing excellent customer service.,,,,Horrible - don't waste your time and money.,,,,Now this dish was quite flavourful.,,,,By this time our side of the restaurant was almost empty so there was no excuse.,,,,(It wasn't busy either) Also, the building was FREEZING cold.,,,,like the other reviewer said \"you couldn't pay me to eat at this place again.\",,,,-Drinks took close to 30 minutes to come out at one point.,,,,Seriously flavorful delights, folks.,,,,Much better than the other AYCE sushi place I went to in Vegas.,,,,The lighting is just dark enough to set the mood.,,,,Based on the sub-par service I received and no effort to show their gratitude for my business I won't be going back.,,,,Owner's are really great people.!,,,,There is nothing privileged about working/eating there.,,,,The Greek dressing was very creamy and flavorful.,,,,Overall, I don't think that I would take my parents to this place again because they made most of the similar complaints that I silently felt too.,,,,Now the pizza itself was good the peanut sauce was very tasty.,,,,We had 7 at our table and the service was pretty fast.,,,,Fantastic service here.,,,,I as well would've given godfathers zero stars if possible.,,,,They know how to make them here.,,,,very tough and very short on flavor!,,,,I hope this place sticks around.,,,,I have been in more than a few bars in Vegas, and do not ever recall being charged for tap water.,,,,The restaurant atmosphere was exquisite.,,,,Good service, very clean, and inexpensive, to boot!,,,,The seafood was fresh and generous in portion.,,,,Plus, it's only 8 bucks.,,,,The service was not up to par, either.,,,,Thus far, have only visited twice and the food was absolutely delicious each time.,,,,Just as good as when I had it more than a year ago!,,,,For a self proclaimed coffee cafe, I was wildly disappointed.,,,,The Veggitarian platter is out of this world!,,,,You cant go wrong with any of the food here.,,,,You can't beat that.,,,,Stopped by this place while in Madison for the Ironman, very friendly, kind staff.,,,,The chefs were friendly and did a good job.,,,,I've had better, not only from dedicated boba tea spots, but even from Jenni Pho.,,,,I liked the patio and the service was outstanding.,,,,The goat taco didn't skimp on the meat and wow what FLAVOR!,,,,I think not again,,,,I had the mac salad and it was pretty bland so I will not be getting that again.,,,,I went to Bachi Burger on a friend's recommendation and was not disappointed.,,,,Service stinks here!,,,,I waited and waited.,,,,This place is not quality sushi, it is not a quality restaurant.,,,,I would definitely recommend the wings as well as the pizza.,,,,Great Pizza and Salads!,,,,Things that went wrong: - They burned the saganaki.,,,,We waited an hour for what was a breakfast I could have done 100 times better at home.,,,,This place is amazing!,,,,I hate to disagree with my fellow Yelpers, but my husband and I were so disappointed with this place.,,,,Waited 2 hours & never got either of our pizzas as many other around us who came in later did!,,,,Just don't know why they were so slow.,,,,The staff is great, the food is delish, and they have an incredible beer selection.,,,,I live in the neighborhood so I am disappointed I won't be back here, because it is a convenient location.,,,,I didn't know pulled pork could be soooo delicious.,,,,You get incredibly fresh fish, prepared with care.,,,,Before I go in to why I gave a 1 star rating please know that this was my third time eating at Bachi burger before writing a review.,,,,I love the fact that everything on their menu is worth it.,,,,Never again will I be dining at this place!,,,,The food was excellent and service was very good.,,,,Good beer & drink selection and good food selection.,,,,Please stay away from the shrimp stir fried noodles.,,,,The potato chip order was sad... I could probably count how many chips were in that box and it was probably around 12.,,,,Food was really boring.,,,,Good Service-check!,,,,This greedy corporation will NEVER see another dime from me!,,,,Will never, ever go back.,,,,As much as I'd like to go back, I can't get passed the atrocious service and will never return.,,,,In the summer, you can dine in a charming outdoor patio - so very delightful.,,,,I did not expect this to be so good!,,,,Fantastic food!,,,,She ordered a toasted English muffin that came out untoasted.,,,,The food was very good.,,,,Never going back.,,,,Great food for the price, which is very high quality and house made.,,,,The bus boy on the other hand was so rude.,,,,By this point, my friends and I had basically figured out this place was a joke and didn't mind making it publicly and loudly known.,,,,Back to good BBQ, lighter fare, reasonable pricing and tell the public they are back to the old ways.,,,,And considering the two of us left there very full and happy for about $20, you just can't go wrong.,,,,All the bread is made in-house!,,,,The only downside is the service.,,,,Also, the fries are without a doubt the worst fries I've ever had.,,,,Service was exceptional and food was a good as all the reviews.,,,,A couple of months later, I returned and had an amazing meal.,,,,Favorite place in town for shawarrrrrrma!!!!!!,,,,The black eyed peas and sweet potatoes... UNREAL!,,,,You won't be disappointed.,,,,They could serve it with just the vinaigrette and it may make for a better overall dish, but it was still very good.,,,,I go to far too many places and I've never seen any restaurant that serves a 1 egg breakfast, especially for $4.00.,,,,When my mom and I got home she immediately got sick and she only had a few bites of salad.,,,,The servers are not pleasant to deal with and they don't always honor Pizza Hut coupons.,,,,Both of them were truly unbelievably good, and I am so glad we went back.,,,,We had fantastic service, and were pleased by the atmosphere.,,,,Everything was gross.,,,,I love this place.,,,,Great service and food.,,,,First - the bathrooms at this location were dirty- Seat covers were not replenished & just plain yucky!!!,,,,The burger... I got the \"Gold Standard\" a $17 burger and was kind of disappointed.,,,,OMG, the food was delicioso!,,,,There is nothing authentic about this place.,,,,the spaghetti is nothing special whatsoever.,,,,Of all the dishes, the salmon was the best, but all were great.,,,,The vegetables are so fresh and the sauce feels like authentic Thai.,,,,It's worth driving up from Tucson!,,,,The selection was probably the worst I've seen in Vegas.....there was none.,,,,Pretty good beer selection too.,,,,This place is like Chipotle, but BETTER.,,,,Classy/warm atmosphere, fun and fresh appetizers, succulent steaks (Baseball steak!!!!!,,,,5 stars for the brick oven bread app!,,,,I have eaten here multiple times, and each time the food was delicious.,,,,We sat another ten minutes and finally gave up and left.,,,,He was terrible!,,,,Everyone is treated equally special.,,,,It shouldn't take 30 min for pancakes and eggs.,,,,It was delicious!!!,,,,On the good side, the staff was genuinely pleasant and enthusiastic - a real treat.,,,,Sadly, Gordon Ramsey's Steak is a place we shall sharply avoid during our next trip to Vegas.,,,,As always the evening was wonderful and the food delicious!,,,,Best fish I've ever had in my life!,,,,(The bathroom is just next door and very nice.),,,,The buffet is small and all the food they offered was BLAND.,,,,This is an Outstanding little restaurant with some of the Best Food I have ever tasted.,,,,Pretty cool I would say.,,,,Definitely a turn off for me & i doubt I'll be back unless someone else is buying.,,,,Server did a great job handling our large rowdy table.,,,,I find wasting food to be despicable, but this just wasn't food.,,,,My wife had the Lobster Bisque soup which was lukewarm.,,,,Would come back again if I had a sushi craving while in Vegas.,,,,The staff are great, the ambiance is great.,,,,He deserves 5 stars.,,,,I left with a stomach ache and felt sick the rest of the day.,,,,They dropped more than the ball.,,,,The dining space is tiny, but elegantly decorated and comfortable.,,,,They will customize your order any way you'd like, my usual is Eggplant with Green Bean stir fry, love it!,,,,And the beans and rice were mediocre at best.,,,,Best tacos in town by far!!,,,,I took back my money and got outta there.,,,,In an interesting part of town, this place is amazing.,,,,RUDE & INCONSIDERATE MANAGEMENT.,,,,The staff are now not as friendly, the wait times for being served are horrible, no one even says hi for the first 10 minutes.,,,,I won't be back.,,,,They have great dinners.,,,,The service was outshining & I definitely recommend the Halibut.,,,,The food was terrible.,,,,WILL NEVER EVER GO BACK AND HAVE TOLD MANY PEOPLE WHAT HAD HAPPENED.,,,,I don't recommend unless your car breaks down in front of it and you are starving.,,,,I will come back here every time I'm in Vegas.,,,,This place deserves one star and 90% has to do with the food.,,,,This is a disgrace.,,,,Def coming back to bowl next time,,,,If you want healthy authentic or ethic food, try this place.,,,,I will continue to come here on ladies night andddd date night ... highly recommend this place to anyone who is in the area (;,,,,I have been here several times in the past, and the experience has always been great.,,,,We walked away stuffed and happy about our first Vegas buffet experience.,,,,Service was excellent and prices are pretty reasonable considering this is Vegas and located inside the Crystals shopping mall by Aria.,,,,To summarize... the food was incredible, nay, transcendant... but nothing brings me joy quite like the memory of the pneumatic condiment dispenser.,,,,I'm probably one of the few people to ever go to Ians and not like it.,,,,Kids pizza is always a hit too with lots of great side dish options for the kiddos!,,,,Service is perfect and the family atmosphere is nice to see.,,,,Cooked to perfection and the service was impeccable.,,,,This one is simply a disappointment.,,,,Overall, I was very disappointed with the quality of food at Bouchon.,,,,I don't have to be an accountant to know I'm getting screwed!,,,,Great place to eat, reminds me of the little mom and pop shops in the San Francisco Bay Area.,,,,Today was my first taste of a Buldogis Gourmet Hot Dog and I have to tell you it was more than I ever thought possible.,,,,Left very frustrated.,,,,I'll definitely be in soon again.,,,,Food was really good and I got full petty fast.,,,,Service was fantastic.,,,,TOTAL WASTE OF TIME.,,,,I don't know what kind it is but they have the best iced tea.,,,,Come hungry, leave happy and stuffed!,,,,For service, I give them no stars.,,,,I can assure you that you won't be disappointed.,,,,I can take a little bad service but the food sucks.,,,,Gave up trying to eat any of the crust (teeth still sore).,,,,But now I was completely grossed out.,,,,I really enjoyed eating here.,,,,First time going but I think I will quickly become a regular.,,,,Our server was very nice, and even though he looked a little overwhelmed with all of our needs, he stayed professional and friendly until the end.,,,,From what my dinner companions told me...everything was very fresh with nice texture and taste.,,,,On the ground, right next to our table was a large, smeared, been-stepped-in-and-tracked-everywhere pile of green bird poop.,,,,Furthermore, you can't even find hours of operation on the website!,,,,We've tried to like this place but after 10+ times I think we're done with them.,,,,What a mistake that was!,,,,No complaints!,,,,This is some seriously good pizza and I'm an expert/connisseur on the topic.,,,,Waiter was a jerk.,,,,Strike 2, who wants to be rushed.,,,,These are the nicest restaurant owners I've ever come across.,,,,I never come again.,,,,We loved the biscuits!!!,,,,Service is quick and friendly.,,,,Ordered an appetizer and took 40 minutes and then the pizza another 10 minutes.,,,,So absolutley fantastic.,,,,It was a huge awkward 1.5lb piece of cow that was 3/4ths gristle and fat.,,,,definitely will come back here again.,,,,I like Steiners because it's dark and it feels like a bar.,,,,Wow very spicy but delicious.,,,,If you're not familiar, check it out.,,,,I'll take my business dinner dollars elsewhere.,,,,I'd love to go back.,,,,Anyway, this FS restaurant has a wonderful breakfast/lunch.,,,,Nothing special.,,,,Each day of the week they have a different deal and it's all so delicious!,,,,Not to mention the combination of pears, almonds and bacon is a big winner!,,,,Will not be back.,,,,Sauce was tasteless.,,,,The food is delicious and just spicy enough, so be sure to ask for spicier if you prefer it that way.,,,,My ribeye steak was cooked perfectly and had great mesquite flavor.,,,,I don't think we'll be going back anytime soon.,,,,Food was so gooodd.,,,,I am far from a sushi connoisseur but I can definitely tell the difference between good food and bad food and this was certainly bad food.,,,,I was so insulted.,,,,The last 3 times I had lunch here has been bad.,,,,The chicken wings contained the driest chicken meat I have ever eaten.,,,,The food was very good and I enjoyed every mouthful, an enjoyable relaxed venue for couples small family groups etc.,,,,Nargile - I think you are great.,,,,Best tater tots in the southwest.,,,,We loved the place.,,,,Definitely not worth the $3 I paid.,,,,The vanilla ice cream was creamy and smooth while the profiterole (choux) pastry was fresh enough.,,,,Im in AZ all the time and now have my new spot.,,,,The manager was the worst.,,,,The inside is really quite nice and very clean.,,,,The food was outstanding and the prices were very reasonable.,,,,I don't think I'll be running back to Carly's anytime soon for food.,,,,This is was due to the fact that it took 20 minutes to be acknowledged, then another 35 minutes to get our food...and they kept forgetting things.,,,,Love the margaritas, too!,,,,This was my first and only Vegas buffet and it did not disappoint.,,,,Very good, though!,,,,The one down note is the ventilation could use some upgrading.,,,,Great pork sandwich.,,,,Don't waste your time here.,,,,Total letdown, I would much rather just go to the Camelback Flower Shop and Cartel Coffee.,,,,Third, the cheese on my friend's burger was cold.,,,,We enjoy their pizza and brunch.,,,,The steaks are all well trimmed and also perfectly cooked.,,,,We had a group of 70+ when we claimed we would only have 40 and they handled us beautifully.,,,,I LOVED it!,,,,We asked for the bill to leave without eating and they didn't bring that either.,,,,This place is a jewel in Las Vegas, and exactly what I've been hoping to find in nearly ten years living here.,,,,Seafood was limited to boiled shrimp and crab legs but the crab legs definitely did not taste fresh.,,,,The selection of food was not the best.,,,,Delicious and I will absolutely be back!,,,,This isn't a small family restaurant, this is a fine dining establishment.,,,,They had a toro tartare with a cavier that was extraordinary and I liked the thinly sliced wagyu with white truffle.,,,,I dont think I will be back for a very long time.,,,,It was attached to a gas station, and that is rarely a good sign.,,,,How awesome is that.,,,,I will be back many times soon.,,,,The menu had so much good stuff on it i could not decide!,,,,Worse of all, he humiliated his worker right in front of me..Bunch of horrible name callings.,,,,CONCLUSION: Very filling meals.,,,,Their daily specials are always a hit with my group.,,,,And then tragedy struck.,,,,The pancake was also really good and pretty large at that.,,,,This was my first crawfish experience, and it was delicious!,,,,Their monster chicken fried steak and eggs is my all time favorite.,,,,Waitress was sweet and funny.,,,,I also had to taste my Mom's multi-grain pumpkin pancakes with pecan butter and they were amazing, fluffy, and delicious!,,,,I'd rather eat airline food, seriously.,,,,Cant say enough good things about this place.,,,,The ambiance was incredible.,,,,The waitress and manager are so friendly.,,,,I would not recommend this place.,,,,Overall I wasn't very impressed with Noca.,,,,My gyro was basically lettuce only.,,,,Terrible service!,,,,Thoroughly disappointed!,,,,I don't each much pasta, but I love the homemade /hand made pastas and thin pizzas here.,,,,Give it a try, you will be happy you did.,,,,By far the BEST cheesecurds we have ever had!,,,,Reasonably priced also!,,,,Everything was perfect the night we were in.,,,,The food is very good for your typical bar food.,,,,it was a drive to get there.,,,,At first glance it is a lovely bakery cafe - nice ambiance, clean, friendly staff.,,,,Anyway, I do not think i will go back there.,,,,Point your finger at any item on the menu, order it and you won't be disappointed.,,,,Oh this is such a thing of beauty, this restaurant.,,,,If you haven't gone here GO NOW!,,,,A greasy, unhealthy meal.,,,,first time there and might just be the last.,,,,Those burgers were amazing.,,,,Similarly, the delivery man did not say a word of apology when our food was 45 minutes late.,,,,And it was way to expensive.,,,,Be sure to order dessert, even if you need to pack it to-go - the tiramisu and cannoli are both to die for.,,,,This was my first time and I can't wait until the next.,,,,The bartender was also nice.,,,,Everything was good and tasty!,,,,This place is two thumbs up....way up.,,,,The best place in Vegas for breakfast (just check out a Sat, or Sun.,,,,If you love authentic Mexican food and want a whole bunch of interesting, yet delicious meats to choose from, you need to try this place.,,,,Terrible management.,,,,An excellent new restaurant by an experienced Frenchman.,,,,If there were zero stars I would give it zero stars.,,,,Great steak, great sides, great wine, amazing desserts.,,,,Worst martini ever!,,,,The steak and the shrimp are in my opinion the best entrees at GC.,,,,I had the opportunity today to sample your amazing pizzas!,,,,We waited for thirty minutes to be seated (although there were 8 vacant tables and we were the only folks waiting).,,,,The yellowtail carpaccio was melt in your mouth fresh.,,,,I won't try going back there even if it's empty.,,,,No, I'm going to eat the potato that I found some strangers hair in it.,,,,Just spicy enough.. Perfect actually.,,,,Last night was my second time dining here and I was so happy I decided to go back!,,,,not even a \"hello, we will be right with you.\",,,,The desserts were a bit strange.,,,,My boyfriend and I came here for the first time on a recent trip to Vegas and could not have been more pleased with the quality of food and service.,,,,I really do recommend this place, you can go wrong with this donut place!,,,,Nice ambiance.,,,,I would recommend saving room for this!,,,,I guess maybe we went on an off night but it was disgraceful.,,,,However, my recent experience at this particular location was not so good.,,,,I know this is not like the other restaurants at all, something is very off here!,,,,AVOID THIS ESTABLISHMENT!,,,,I think this restaurant suffers from not trying hard enough.,,,,All of the tapas dishes were delicious!,,,,I *heart* this place.,,,,My salad had a bland vinegrette on the baby greens and hearts of Palm.,,,,After two I felt disgusting.,,,,A good time!,,,,I believe that this place is a great stop for those with a huge belly and hankering for sushi.,,,,Generous portions and great taste.,,,,I will never go back to this place and will never ever recommended this place to anyone!,,,,The servers went back and forth several times, not even so much as an \"Are you being helped?\",,,,Food was delicious!,,,,AN HOUR... seriously?,,,,I consider this theft.,,,,Eew... This location needs a complete overhaul.,,,,We recently witnessed her poor quality of management towards other guests as well.,,,,Waited and waited and waited.,,,,He also came back to check on us regularly, excellent service.,,,,Our server was super nice and checked on us many times.,,,,The pizza tasted old, super chewy in not a good way.,,,,I swung in to give them a try but was deeply disappointed.,,,,Service was good and the company was better!,,,,The staff are also very friendly and efficient.,,,,As for the service: I'm a fan, because it's quick and you're being served by some nice folks.,,,,Boy was that sucker dry!!.,,,,Over rated.,,,,If you look for authentic Thai food, go else where.,,,,Their steaks are 100% recommended!,,,,After I pulled up my car I waited for another 15 minutes before being acknowledged.,,,,Great food and great service in a clean and friendly setting.,,,,All in all, I can assure you I'll be back.,,,,I hate those things as much as cheap quality black olives.,,,,My breakfast was perpared great, with a beautiful presentation of 3 giant slices of Toast, lightly dusted with powdered sugar.,,,,The kids play area is NASTY!,,,,Great place fo take out or eat in.,,,,The waitress was friendly and happy to accomodate for vegan/veggie options.,,,,OMG I felt like I had never eaten Thai food until this dish.,,,,It was extremely \"crumby\" and pretty tasteless.,,,,It was a pale color instead of nice and char and has NO flavor.,,,,The croutons also taste homemade which is an extra plus.,,,,I got home to see the driest damn wings ever!,,,,It'll be a regular stop on my trips to Phoenix!,,,,I really enjoyed Crema Café before they expanded; I even told friends they had the BEST breakfast.,,,,Not good for the money.,,,,I miss it and wish they had one in Philadelphia!,,,,We got sitting fairly fast, but, ended up waiting 40 minutes just to place our order, another 30 minutes before the food arrived.,,,,They also have the best cheese crisp in town.,,,,Good value, great food, great service.,,,,Couldn't ask for a more satisfying meal.,,,,The food is good.,,,,It was awesome.,,,,I just wanted to leave.,,,,We made the drive all the way from North Scottsdale... and I was not one bit disappointed!,,,,I will not be eating there again.,,,,!....THE OWNERS REALLY REALLY need to quit being soooooo cheap let them wrap my freaking sandwich in two papers not one!,,,,I checked out this place a couple years ago and was not impressed.,,,,The chicken I got was definitely reheated and was only ok, the wedges were cold and soggy.,,,,Sorry, I will not be getting food from here anytime soon :(,,,,An absolute must visit!,,,,The cow tongue and cheek tacos are amazing.,,,,My friend did not like his Bloody Mary.,,,,Despite how hard I rate businesses, its actually rare for me to give a 1 star.,,,,They really want to make your experience a good one.,,,,I will not return.,,,,I had the chicken Pho and it tasted very bland.,,,,Very disappointing!!!,,,,The grilled chicken was so tender and yellow from the saffron seasoning.,,,,a drive thru means you do not want to wait around for half an hour for your food, but somehow when we end up going here they make us wait and wait.,,,,Pretty awesome place.,,,,Ambience is perfect.,,,,Best of luck to the rude and non-customer service focused new management.,,,,Any grandmother can make a roasted chicken better than this one.,,,,I asked multiple times for the wine list and after some time of being ignored I went to the hostess and got one myself.,,,,The staff is always super friendly and helpful, which is especially cool when you bring two small boys and a baby!,,,,Four stars for the food & the guy in the blue shirt for his great vibe & still letting us in to eat !,,,,The roast beef sandwich tasted really good!,,,,Same evening, him and I are both drastically sick.,,,,High-quality chicken on the chicken Caesar salad.,,,,Ordered burger rare came in we'll done.,,,,We were promptly greeted and seated.,,,,Tried to go here for lunch and it was a madhouse.,,,,I was proven dead wrong by this sushi bar, not only because the quality is great, but the service is fast and the food, impeccable.,,,,After waiting an hour and being seated, I was not in the greatest of moods.,,,,This is a good joint.,,,,The Macarons here are insanely good.,,,,I'm not eating here!,,,,Our waiter was very attentive, friendly, and informative.,,,,Maybe if they weren't cold they would have been somewhat edible.,,,,This place has a lot of promise but fails to deliver.,,,,Very bad Experience!,,,,What a mistake.,,,,Food was average at best.,,,,Great food.,,,,We won't be going back anytime soon!,,,,Very Very Disappointed ordered the $35 Big Bay Plater.,,,,Great place to relax and have an awesome burger and beer.,,,,It is PERFECT for a sit-down family meal or get together with a few friends.,,,,Not much flavor to them, and very poorly constructed.,,,,The patio seating was very comfortable.,,,,The fried rice was dry as well.,,,,Hands down my favorite Italian restaurant!,,,,That just SCREAMS \"LEGIT\" in my book...somethat's also pretty rare here in Vegas.,,,,It was just not a fun experience.,,,,The atmosphere was great with a lovely duo of violinists playing songs we requested.,,,,I personally love the hummus, pita, baklava, falafels and Baba Ganoush (it's amazing what they do with eggplant!).,,,,Very convenient, since we were staying at the MGM!,,,,The owners are super friendly and the staff is courteous.,,,,Both great!,,,,Eclectic selection.,,,,The sweet potato tots were good but the onion rings were perfection or as close as I have had.,,,,The staff was very attentive.,,,,And the chef was generous with his time (even came around twice so we can take pictures with him).,,,,The owner used to work at Nobu, so this place is really similar for half the price.,,,,Google mediocre and I imagine Smashburger will pop up.,,,,dont go here.,,,,I promise they won't disappoint.,,,,As a sushi lover avoid this place by all means.,,,,What a great double cheeseburger!,,,,Awesome service and food.,,,,A fantastic neighborhood gem !!!,,,,I can't wait to go back.,,,,The plantains were the worst I've ever tasted.,,,,It's a great place and I highly recommend it.,,,,Service was slow and not attentive.,,,,I gave it 5 stars then, and I'm giving it 5 stars now.,,,,Your staff spends more time talking to themselves than me.,,,,Dessert: Panna Cotta was amazing.,,,,Very good food, great atmosphere.1,,,,Damn good steak.,,,,Total brunch fail.,,,,Prices are very reasonable, flavors are spot on, the sauce is home made, and the slaw is not drenched in mayo.,,,,The decor is nice, and the piano music soundtrack is pleasant.,,,,The steak was amazing...rge fillet relleno was the best seafood plate i have ever had!,,,,Good food , good service .,,,,It was absolutely amazing.,,,,I probably won't be back, to be honest.,,,,will definitely be back!,,,,The sergeant pepper beef sandwich with auju sauce is an excellent sandwich as well.,,,,Hawaiian Breeze, Mango Magic, and Pineapple Delight are the smoothies that I've tried so far and they're all good.,,,,Went for lunch - service was slow.,,,,We had so much to say about the place before we walked in that he expected it to be amazing, but was quickly disappointed.,,,,I was mortified.,,,,Needless to say, we will never be back here again.,,,,Anyways, The food was definitely not filling at all, and for the price you pay you should expect more.,,,,The chips that came out were dripping with grease, and mostly not edible.,,,,I wasn't really impressed with Strip Steak.,,,,Have been going since 2007 and every meal has been awesome!!,,,,Our server was very nice and attentive as were the other serving staff.,,,,The cashier was friendly and even brought the food out to me.,,,,I work in the hospitality industry in Paradise Valley and have refrained from recommending Cibo any longer.,,,,The atmosphere here is fun.,,,,Would not recommend to others.,,,,Service is quick and even \"to go\" orders are just like we like it!,,,,I mean really, how do you get so famous for your fish and chips when it's so terrible!?!,,,,That said, our mouths and bellies were still quite pleased.,,,,Not my thing.,,,,2 Thumbs Up!!,,,,If you are reading this please don't go there.,,,,I loved the grilled pizza, reminded me of legit Italian pizza.,,,,Only Pros : Large seating area/ Nice bar area/ Great simple drink menu/ The BEST brick oven pizza with homemade dough!,,,,They have a really nice atmosphere.,,,,Tonight I had the Elk Filet special...and it sucked.,,,,After one bite, I was hooked.,,,,We ordered some old classics and some new dishes after going there a few times and were sorely disappointed with everything.,,,,Cute, quaint, simple, honest.,,,,The chicken was deliciously seasoned and had the perfect fry on the outside and moist chicken on the inside.,,,,The food was great as always, compliments to the chef.,,,,Special thanks to Dylan T. for the recommendation on what to order :) All yummy for my tummy.,,,,Awesome selection of beer.,,,,Great food and awesome service!,,,,One nice thing was that they added gratuity on the bill since our party was larger than 6 or 8, and they didn't expect more tip than that.,,,,A FLY was in my apple juice.. A FLY!!!!!!!!,,,,The Han Nan Chicken was also very tasty.,,,,As for the service, I thought it was good.,,,,The food was barely lukewarm, so it must have been sitting waiting for the server to bring it out to us.,,,,Ryan's Bar is definitely one Edinburgh establishment I won't be revisiting.,,,,Nicest Chinese restaurant I've been in a while.,,,,Overall, I like there food and the service.,,,,They also now serve Indian naan bread with hummus and some spicy pine nut sauce that was out of this world.,,,,Probably never coming back, and wouldn't recommend it.,,,,Friend's pasta -- also bad, he barely touched it.,,,,Try them in the airport to experience some tasty food and speedy, friendly service.,,,,I love the decor with the Chinese calligraphy wall paper.,,,,Never had anything to complain about here.,,,,The restaurant is very clean and has a family restaurant feel to it.,,,,It was way over fried.,,,,I'm not sure how long we stood there but it was long enough for me to begin to feel awkwardly out of place.,,,,When I opened the sandwich, I was impressed, but not in a good way.,,,,Will not be back!,,,,There was a warm feeling with the service and I felt like their guest for a special treat.,,,,An extensive menu provides lots of options for breakfast.,,,,I always order from the vegetarian menu during dinner, which has a wide array of options to choose from.,,,,I have watched their prices inflate, portions get smaller and management attitudes grow rapidly!,,,,Wonderful lil tapas and the ambience made me feel all warm and fuzzy inside.,,,,I got to enjoy the seafood salad, with a fabulous vinegrette.,,,,The wontons were thin, not thick and chewy, almost melt in your mouth.,,,,Level 5 spicy was perfect, where spice didn't over-whelm the soup.,,,,We were sat right on time and our server from the get go was FANTASTIC!,,,,Main thing I didn't enjoy is that the crowd is of older crowd, around mid 30s and up.,,,,When I'm on this side of town, this will definitely be a spot I'll hit up again!,,,,I had to wait over 30 minutes to get my drink and longer to get 2 arepas.,,,,This is a GREAT place to eat!,,,,The jalapeno bacon is soooo good.,,,,The service was poor and thats being nice.,,,,Food was good, service was good, Prices were good.,,,,The place was not clean and the food oh so stale!,,,,The chicken dishes are OK, the beef is like shoe leather.,,,,But the service was beyond bad.,,,,I'm so happy to be here!!!\",,,,Tasted like dirt.,,,,One of the few places in Phoenix that I would definately go back to again .,,,,The block was amazing.,,,,It's close to my house, it's low-key, non-fancy, affordable prices, good food.,,,,* Both the Hot & Sour & the Egg Flower Soups were absolutely 5 Stars!,,,,My sashimi was poor quality being soggy and tasteless.,,,,Great time - family dinner on a Sunday night.,,,,the food is not tasty at all, not to say its \"real traditional Hunan style\".,,,,What did bother me, was the slow service.,,,,The flair bartenders are absolutely amazing!,,,,Their frozen margaritas are WAY too sugary for my taste.,,,,These were so good we ordered them twice.,,,,So in a nutshell: 1) The restaraunt smells like a combination of a dirty fish market and a sewer.,,,,My girlfriend's veal was very bad.,,,,Unfortunately, it was not good.,,,,I had a pretty satifying experience.,,,,Join the club and get awesome offers via email.,,,,Perfect for someone (me) who only likes beer ice cold, or in this case, even colder.,,,,Bland and flavorless is a good way of describing the barely tepid meat.,,,,The chains, which I'm no fan of, beat this place easily.,,,,The nachos are a MUST HAVE!,,,,We will not be coming back.,,,,I don't have very many words to say about this place, but it does everything pretty well.,,,,The staff is super nice and very quick even with the crazy crowds of the downtown juries, lawyers, and court staff.,,,,Great atmosphere, friendly and fast service.,,,,When I received my Pita it was huge it did have a lot of meat in it so thumbs up there.,,,,Once your food arrives it's meh.,,,,Paying $7.85 for a hot dog and fries that looks like it came out of a kid's meal at the Wienerschnitzel is not my idea of a good meal.,,,,The classic Maine Lobster Roll was fantastic.,,,,My brother in law who works at the mall ate here same day, and guess what he was sick all night too.,,,,So good I am going to have to review this place twice - once hereas a tribute to the place and once as a tribute to an event held here last night.,,,,The chips and salsa were really good, the salsa was very fresh.,,,,This place is great!!!!!!!!!!!!!!,,,,Mediocre food.,,,,Once you get inside you'll be impressed with the place.,,,,I'm super pissd.,,,,And service was super friendly.,,,,Why are these sad little vegetables so overcooked?,,,,This place was such a nice surprise!,,,,They were golden-crispy and delicious.,,,,I had high hopes for this place since the burgers are cooked over a charcoal grill, but unfortunately the taste fell flat, way flat.,,,,I could eat their bruschetta all day it is devine.,,,,Not a single employee came out to see if we were OK or even needed a water refill once they finally served us our food.,,,,Lastly, the mozzarella sticks, they were the best thing we ordered.,,,,The first time I ever came here I had an amazing experience, I still tell people how awesome the duck was.,,,,The server was very negligent of our needs and made us feel very unwelcome... I would not suggest this place!,,,,The service was terrible though.,,,,This place is overpriced, not consistent with their boba, and it really is OVERPRICED!,,,,It was packed!!,,,,I love this place.,,,,I can say that the desserts were yummy.,,,,The food was terrible.,,,,The seasonal fruit was fresh white peach puree.,,,,It kept getting worse and worse so now I'm officially done.,,,,This place should honestly be blown up.,,,,But I definitely would not eat here again.,,,,Do not waste your money here!,,,,I love that they put their food in nice plastic containers as opposed to cramming it in little paper takeout boxes.,,,,The crêpe was delicate and thin and moist.,,,,Awful service.,,,,Won't ever go here again.,,,,Food quality has been horrible.,,,,For that price I can think of a few place I would have much rather gone.,,,,The service here is fair at best.,,,,I do love sushi, but I found Kabuki to be over-priced, over-hip and under-services.,,,,Do yourself a favor and stay away from this dish.,,,,Very poor service.,,,,No one at the table thought the food was above average or worth the wait that we had for it.,,,,Best service and food ever, Maria our server was so good and friendly she made our day.,,,,They were excellent.,,,,I paid the bill but did not tip because I felt the server did a terrible job.,,,,Just had lunch here and had a great experience.,,,,I have never had such bland food which surprised me considering the article we read focused so much on their spices and flavor.,,,,Food is way overpriced and portions are fucking small.,,,,I recently tried Caballero's and I have been back every week since!,,,,for 40 bucks a head, i really expect better food.,,,,The food came out at a good pace.,,,,I ate there twice on my last visit, and especially enjoyed the salmon salad.,,,,I won't be back.,,,,We could not believe how dirty the oysters were!,,,,This place deserves no stars.,,,,I would not recommend this place.,,,,In fact I'm going to round up to 4 stars, just because she was so awesome.,,,,To my disbelief, each dish qualified as the worst version of these foods I have ever tasted.,,,,Bad day or not, I have a very low tolerance for rude customer service people, it is your job to be nice and polite, wash dishes otherwise!!,,,,the potatoes were great and so was the biscuit.,,,,I probably would not go here again.,,,,So flavorful and has just the perfect amount of heat.,,,,The price is reasonable and the service is great.,,,,The Wife hated her meal (coconut shrimp), and our friends really did not enjoy their meals, either.,,,,My fella got the huevos rancheros and they didn't look too appealing.,,,,Went in for happy hour, great list of wines.,,,,Some may say this buffet is pricey but I think you get what you pay for and this place you are getting quite a lot!,,,,I probably won't be coming back here.,,,,Worst food/service I've had in a while.,,,,This place is pretty good, nice little vibe in the restaurant.,,,,Talk about great customer service of course we will be back.,,,,Hot dishes are not hot, cold dishes are close to room temp.I watched staff prepare food with BARE HANDS, no gloves.Everything is deep fried in oil.,,,,I love their fries and their beans.,,,,Always a pleasure dealing with him.,,,,They have a plethora of salads and sandwiches, and everything I've tried gets my seal of approval.,,,,This place is awesome if you want something light and healthy during the summer.,,,,For sushi on the Strip, this is the place to go.,,,,The service was great, even the manager came and helped with our table.,,,,The feel of the dining room was more college cooking course than high class dining and the service was slow at best.,,,,I started this review with two stars, but I'm editing it to give it only one.,,,,this is the worst sushi i have ever eat besides Costco's.,,,,All in all an excellent restaurant highlighted by great service, a unique menu, and a beautiful setting.,,,,My boyfriend and i sat at the bar and had a completely delightful experience.,,,,Weird vibe from owners.,,,,There was hardly any meat.,,,,I've had better bagels from the grocery store.,,,,Go To Place for Gyros.,,,,I love the owner/chef, his one authentic Japanese cool dude!,,,,Now the burgers aren't as good, the pizza which used to be amazing is doughy and flavorless.,,,,I found a six inch long piece of wire in my salsa.,,,,The service was terrible, food was mediocre.,,,,We definately enjoyed ourselves.,,,,I ordered Albondigas soup - which was just warm - and tasted like tomato soup with frozen meatballs.,,,,On three different occasions I asked for well done or medium well, and all three times I got the bloodiest piece of meat on my plate.,,,,I had about two bites and refused to eat anymore.,,,,The service was extremely slow.,,,,After 20 minutes wait, I got a table.,,,,Seriously killer hot chai latte.,,,,No allergy warnings on the menu, and the waitress had absolutely no clue as to which meals did or did not contain peanuts.,,,,My boyfriend tried the Mediterranean Chicken Salad and fell in love.,,,,Their rotating beers on tap is also a highlight of this place.,,,,Pricing is a bit of a concern at Mellow Mushroom.,,,,Worst Thai ever.,,,,If you stay in Vegas you must get breakfast here at least once.,,,,I want to first say our server was great and we had perfect service.,,,,The pizza selections are good.,,,,I had strawberry tea, which was good.,,,,Highly unprofessional and rude to a loyal patron!,,,,Overall, a great experience.,,,,Spend your money elsewhere.,,,,Their regular toasted bread was equally satisfying with the occasional pats of butter... Mmmm...!,,,,The Buffet at Bellagio was far from what I anticipated.,,,,And the drinks are WEAK, people!,,,,-My order was not correct.,,,,Also, I feel like the chips are bought, not made in house.,,,,After the disappointing dinner we went elsewhere for dessert.,,,,The chips and sals a here is amazing!!!!!!!!!!!!!!!!!!!,,,,We won't be returning.,,,,This is my new fav Vegas buffet spot.,,,,I seriously cannot believe that the owner has so many unexperienced employees that all are running around like chickens with their heads cut off.,,,,Very, very sad.,,,,i felt insulted and disrespected, how could you talk and judge another human being like that?,,,,How can you call yourself a steakhouse if you can't properly cook a steak, I don't understand!,,,,I'm not impressed with the concept or the food.,,,,The only thing I wasn't too crazy about was their guacamole as I don't like it puréed.,,,,There is really nothing for me at postinos, hope your experience is better,,,,I got food poisoning here at the buffet.,,,,They brought a fresh batch of fries and I was thinking yay something warm but no!,,,,What SHOULD have been a hilarious, yummy Christmas Eve dinner to remember was the biggest fail of the entire trip for us.,,,,Needless to say, I won't be going back anytime soon.,,,,This place is disgusting!,,,,Every time I eat here, I see caring teamwork to a professional degree.,,,,The RI style calamari was a joke.,,,,However, there was so much garlic in the fondue, it was barely edible.,,,,I could barely stomach the meal, but didn't complain because it was a business lunch.,,,,It was so bad, I had lost the heart to finish it.,,,,It also took her forever to bring us the check when we asked for it.,,,,We aren't ones to make a scene at restaurants but I just don't get it...definitely lost the love after this one!,,,,Disappointing experience.,,,,The food is about on par with Denny's, which is to say, not good at all.,,,,If you want to wait for mediocre food and downright terrible service, then this is the place for you.,,,,WAAAAAAyyyyyyyyyy over rated is all I am saying.,,,,We won't be going back.,,,,The place was fairly clean but the food simply wasn't worth it.,,,,This place lacked style!!,,,,The sangria was about half of a glass wine full and was $12, ridiculous.,,,,Don't bother coming here.,,,,The meat was pretty dry, I had the sliced brisket and pulled pork.,,,,The building itself seems pretty neat; the bathroom is pretty trippy, but I wouldn't eat here again.,,,,It was equally awful.,,,,Probably not in a hurry to go back.,,,,very slow at seating even with reservation.,,,,Not good by any stretch of the imagination.,,,,The cashew cream sauce was bland and the vegetables were undercooked.,,,,The chipolte ranch dipping sause was tasteless, seemed thin and watered down with no heat.,,,,It was a bit too sweet, not really spicy enough, and lacked flavor.,,,,I was VERY disappointed!!,,,,This place is horrible and way overpriced.,,,,Maybe it's just their Vegetarian fare, but I've been twice and I thought it was average at best.,,,,It wasn't busy at all and now we know why.,,,,The tables outside are also dirty a lot of the time and the workers are not always friendly and helpful with the menu.,,,,The ambiance here did not feel like a buffet setting, but more of a douchey indoor garden for tea and biscuits.,,,,Con: spotty service.,,,,The fries were not hot, and neither was my burger.,,,,But then they came back cold.,,,,Then our food came out, disappointment ensued.,,,,The real disappointment was our waiter.,,,,My husband said she was very rude... did not even apologize for the bad food or anything.,,,,The only reason to eat here would be to fill up before a night of binge drinking just to get some carbs in your stomach.,,,,Insults, profound deuchebaggery, and had to go outside for a smoke break while serving just to solidify it.,,,,If someone orders two tacos don't' you think it may be part of customer service to ask if it is combo or ala cart?,,,,She was quite disappointed although some blame needs to be placed at her door.,,,,After all the rave reviews I couldn't wait to eat here......what a disappointment!,,,,Del Taco is pretty nasty and should be avoided if possible.,,,,It's NOT hard to make a decent hamburger.,,,,But I don't like it.,,,,Hell no will I go back,,,,We've have gotten a much better service from the pizza place next door than the services we received from this restaurant.,,,,I don't know what the big deal is about this place, but I won't be back \"ya'all\".,,,,I immediately said I wanted to talk to the manager but I did not want to talk to the guy who was doing shots of fireball behind the bar.,,,,The ambiance isn't much better.,,,,Unfortunately, it only set us up for disapppointment with our entrees.,,,,The food wasn't good.,,,,Your servers suck, wait, correction, our server Heimer sucked.,,,,What happened next was pretty....off putting.,,,,too bad cause I know it's family owned, I really wanted to like this place.,,,,Overpriced for what you are getting.,,,,I vomited in the bathroom mid lunch.,,,,I kept looking at the time and it had soon become 35 minutes, yet still no food.,,,,I have been to very few places to eat that under no circumstances would I ever return to, and this tops the list.,,,,We started with the tuna sashimi which was brownish in color and obviously wasn't fresh.,,,,Food was below average.,,,,It sure does beat the nachos at the movies but I would expect a little bit more coming from a restaurant.,,,,All in all, Ha Long Bay was a bit of a flop.,,,,The problem I have is that they charge $11.99 for a sandwich that is no bigger than a Subway sub (which offers better and more amount of vegetables).,,,,Shrimp- When I unwrapped it (I live only 1/2 a mile from Brushfire) it was literally ice cold.,,,,It lacked flavor, seemed undercooked, and dry.,,,,It really is impressive that the place hasn't closed down.,,,,I would avoid this place if you are staying in the Mirage.,,,,The refried beans that came with my meal were dried out and crusty and the food was bland.,,,,Spend your money and time some place else.,,,,A lady at the table next to us found a live green caterpillar In her salad.,,,,the presentation of the food was awful.,,,,I can't tell you how disappointed I was.,,,,I think food should have flavor and texture and both were lacking.,,,,Appetite instantly gone.,,,,Overall I was not impressed and would not go back.,,,,The whole experience was underwhelming, and I think we'll just go to Ninja Sushi next time.,,,,Then, as if I hadn't wasted enough of my life there, they poured salt in the wound by drawing out the time it took to bring the check.\"\"\"\n",
        "texts = texts.split(',,,,')\n",
        "\n",
        "train_labels = labels[:100]\n",
        "test_labels = labels[-100:]\n",
        "\n",
        "\n",
        "tf_matrix = texts_to_tf_matrix(texts)\n",
        "train_tf = tf_matrix[:100]\n",
        "test_tf = tf_matrix[-100:]\n",
        "tf_sent_predictor = get_sentiment_predictor(train_tf, train_labels)\n",
        "tf_sent_accuracy = tf_sent_predictor.score(test_tf, test_labels)\n",
        "print('Performance using TF matrix: {0}'.format(round(tf_sent_accuracy, 4)))\n",
        "\n",
        "tf_idf = tf_matrix_to_tf_idf(tf_matrix)\n",
        "train_tf_idf = tf_idf[:100]\n",
        "test_tf_idf = tf_idf[-100:]\n",
        "tf_idf_sent_predictor = get_sentiment_predictor(train_tf_idf, train_labels)\n",
        "tf_idf_sent_accuracy = tf_sent_predictor.score(test_tf_idf, test_labels)\n",
        "print('\\nPerformance using TF-IDF matrix: {0}'.format(round(tf_idf_sent_accuracy, 4)))"
      ],
      "execution_count": 30,
      "outputs": [
        {
          "output_type": "error",
          "ename": "TypeError",
          "evalue": "ignored",
          "traceback": [
            "\u001b[0;31m---------------------------------------------------------------------------\u001b[0m",
            "\u001b[0;31mTypeError\u001b[0m                                 Traceback (most recent call last)",
            "\u001b[0;32m<ipython-input-30-edcf1e95c03e>\u001b[0m in \u001b[0;36m<module>\u001b[0;34m()\u001b[0m\n\u001b[1;32m     11\u001b[0m \u001b[0;34m\u001b[0m\u001b[0m\n\u001b[1;32m     12\u001b[0m \u001b[0mtf_matrix\u001b[0m \u001b[0;34m=\u001b[0m \u001b[0mtexts_to_tf_matrix\u001b[0m\u001b[0;34m(\u001b[0m\u001b[0mtexts\u001b[0m\u001b[0;34m)\u001b[0m\u001b[0;34m\u001b[0m\u001b[0m\n\u001b[0;32m---> 13\u001b[0;31m \u001b[0mtrain_tf\u001b[0m \u001b[0;34m=\u001b[0m \u001b[0mtf_matrix\u001b[0m\u001b[0;34m[\u001b[0m\u001b[0;34m:\u001b[0m\u001b[0;36m100\u001b[0m\u001b[0;34m]\u001b[0m\u001b[0;34m\u001b[0m\u001b[0m\n\u001b[0m\u001b[1;32m     14\u001b[0m \u001b[0mtest_tf\u001b[0m \u001b[0;34m=\u001b[0m \u001b[0mtf_matrix\u001b[0m\u001b[0;34m[\u001b[0m\u001b[0;34m-\u001b[0m\u001b[0;36m100\u001b[0m\u001b[0;34m:\u001b[0m\u001b[0;34m]\u001b[0m\u001b[0;34m\u001b[0m\u001b[0m\n\u001b[1;32m     15\u001b[0m \u001b[0mtf_sent_predictor\u001b[0m \u001b[0;34m=\u001b[0m \u001b[0mget_sentiment_predictor\u001b[0m\u001b[0;34m(\u001b[0m\u001b[0mtrain_tf\u001b[0m\u001b[0;34m,\u001b[0m \u001b[0mtrain_labels\u001b[0m\u001b[0;34m)\u001b[0m\u001b[0;34m\u001b[0m\u001b[0m\n",
            "\u001b[0;31mTypeError\u001b[0m: 'NoneType' object is not subscriptable"
          ]
        }
      ]
    },
    {
      "metadata": {
        "id": "OBVn0L-TPdk5",
        "colab_type": "text"
      },
      "cell_type": "markdown",
      "source": [
        "## Done already??\n",
        "\n",
        "**Challenge:** figure out a good way to get key-phrases from the documents classified as `0` (negative) vs. `1` (positive)! Perhaps you could use the tf-idf matrix for this?"
      ]
    },
    {
      "metadata": {
        "id": "0pvu7SFJPT9_",
        "colab_type": "code",
        "colab": {}
      },
      "cell_type": "code",
      "source": [
        ""
      ],
      "execution_count": 0,
      "outputs": []
    }
  ]
}